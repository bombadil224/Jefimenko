{
 "cells": [
  {
   "cell_type": "code",
   "execution_count": null,
   "metadata": {},
   "outputs": [],
   "source": [
    "%matplotlib nbagg"
   ]
  },
  {
   "cell_type": "code",
   "execution_count": null,
   "metadata": {},
   "outputs": [],
   "source": [
    "import jefimenko"
   ]
  },
  {
   "cell_type": "code",
   "execution_count": null,
   "metadata": {},
   "outputs": [],
   "source": [
    "def example_charges_1():\n",
    "    mapping = jefimenko.Grid(1,   # creat a 1D grid\n",
    "                delta=[1],  # this is the size of a step in x, y and z\n",
    "                size=[10],  # this is the size of the grid in meters\n",
    "                time=14 * 3.36 * 10**-9,  # this is the length of a simulation in secounds\n",
    "                delta_t=3.36 * 10**-9  # this is the size of a full time step\n",
    "        )\n",
    " \n",
    "    mapping.Add_Charge([0], Q = 1)\n",
    "    jefimenko.plot_grid(mapping)\n",
    "\n",
    "    jefimenko.simulate(mapping)\n",
    "    for t in range(mapping.time_size):\n",
    "        #t=1\n",
    "        jefimenko.plot_EM_grid('E', mapping, time=t)\n",
    "\n",
    "    for T in range(10):\n",
    "        print(T)\n",
    "        field = jefimenko.print_location(mapping.grid['E'][T], [1, 0], mapping)\n",
    "        print(field)"
   ]
  },
  {
   "cell_type": "code",
   "execution_count": null,
   "metadata": {},
   "outputs": [],
   "source": [
    "example_charges_1()"
   ]
  },
  {
   "cell_type": "code",
   "execution_count": null,
   "metadata": {},
   "outputs": [],
   "source": [
    "def example_charges_2():\n",
    "    mapping = jefimenko.Grid(2,   # creat a 2D grid\n",
    "                delta=[1, 1],  # this is the size of a step in x, y and z\n",
    "                size=[10, 10],  # this is the size of the grid in meters\n",
    "                time=14 * 3.36 * 10**-9,  # this is the length of a simulation in secounds\n",
    "                delta_t=3.36 * 10**-9  # this is the size of a full time step\n",
    "        )\n",
    " \n",
    "    mapping.Add_Charge([0, 0], Q = 1)\n",
    "    jefimenko.plot_grid(mapping)\n",
    "\n",
    "    jefimenko.simulate(mapping)\n",
    "    for t in range(mapping.time_size):\n",
    "        #t=1\n",
    "        jefimenko.plot_EM_grid('E', mapping, time=t)\n",
    "\n",
    "    for T in range(10):\n",
    "        print(T)\n",
    "        field = jefimenko.print_location(mapping.grid['E'][T], [1, 0], mapping)\n",
    "        print(field)"
   ]
  },
  {
   "cell_type": "code",
   "execution_count": null,
   "metadata": {},
   "outputs": [],
   "source": [
    "example_charges_2()"
   ]
  },
  {
   "cell_type": "code",
   "execution_count": null,
   "metadata": {},
   "outputs": [],
   "source": [
    "def example_charges_3():\n",
    "    mapping = jefimenko.Grid(3,   # creat a 3D grid\n",
    "                delta=[1, 1, 1],  # this is the size of a step in x, y and z\n",
    "                size=[10, 10, 10],  # this is the size of the grid in meters\n",
    "                time=14 * 3.36 * 10**-9,  # this is the length of a simulation in secounds\n",
    "                delta_t=3.36 * 10**-9  # this is the size of a full time step\n",
    "        )\n",
    " \n",
    "    mapping.Add_Charge([0, 0, 0], Q = 1)\n",
    "    jefimenko.plot_grid(mapping)\n",
    "\n",
    "    jefimenko.simulate(mapping)\n",
    "    for t in range(mapping.time_size):\n",
    "        #t=1\n",
    "        jefimenko.plot_EM_grid('E', mapping, time=t)\n",
    "\n",
    "#    for T in range(10):\n",
    "#        print(T)\n",
    "#        field = jefimenko.print_location(mapping.grid['E'][T], [1, 0], mapping)\n",
    "#        print(field)"
   ]
  },
  {
   "cell_type": "code",
   "execution_count": null,
   "metadata": {},
   "outputs": [],
   "source": [
    "example_charges_3()"
   ]
  },
  {
   "cell_type": "code",
   "execution_count": null,
   "metadata": {},
   "outputs": [],
   "source": [
    "def example_currents():\n",
    "    mapping = jefimenko.Grid(2,   # creat a 2D grid\n",
    "                delta=[1, 1],  # this is the size of a step in x, y and z\n",
    "                size=[10, 10],  # this is the size of the grid in meters\n",
    "                time=14 * 3.36 * 10**-9,  # this is the length of a simulation in secounds\n",
    "                delta_t=3.36 * 10**-9  # this is the size of a full time step\n",
    "        )\n",
    "    for i in range(10):\n",
    "        mapping.Add_Current([5, i],\n",
    "                        direction=[0, 1, 0],\n",
    "                        Amps=1)\n",
    "    jefimenko.plot_grid(mapping)\n",
    "\n",
    "    for i in range(len(mapping.currents[0])):\n",
    "        print('amps = ' + str(mapping.currents[0][i].amps))\n",
    "        print('direction = ' + str(mapping.currents[0][i].direction))\n",
    "        print('location = '+ str(mapping.currents[0][i].location))\n",
    "        print('')\n",
    "    jefimenko.simulate(mapping)\n",
    "    for t in range(mapping.time_size):\n",
    "         #t=1\n",
    "        jefimenko.plot_EM_grid('H', mapping, time=t)\n",
    "\n",
    "    for T in range(10):\n",
    "        print(T)\n",
    "        field = jefimenko.print_location(mapping.grid['H'][T], [1, 0], mapping)\n",
    "        print(field)"
   ]
  },
  {
   "cell_type": "code",
   "execution_count": null,
   "metadata": {},
   "outputs": [],
   "source": [
    "example_currents()"
   ]
  },
  {
   "cell_type": "code",
   "execution_count": null,
   "metadata": {},
   "outputs": [],
   "source": [
    "def example_currents_1():\n",
    "    mapping = jefimenko.Grid(1,   # creat a 1D grid\n",
    "                delta=[1],  # this is the size of a step in x, y and z\n",
    "                size=[10],  # this is the size of the grid in meters\n",
    "                time=14 * 3.36 * 10**-9,  # this is the length of a simulation in secounds\n",
    "                delta_t=3.36 * 10**-9  # this is the size of a full time step\n",
    "        )\n",
    "    mapping.Add_Current([0],\n",
    "                    direction=[0, 0, 1],\n",
    "                    Amps=1)\n",
    "\n",
    "    jefimenko.plot_grid(mapping)\n",
    "\n",
    "    for i in range(len(mapping.currents[0])):\n",
    "        print('amps = ' + str(mapping.currents[0][i].amps))\n",
    "        print('direction = ' + str(mapping.currents[0][i].direction))\n",
    "        print('location = '+ str(mapping.currents[0][i].location))\n",
    "        print('')\n",
    "    jefimenko.simulate(mapping)\n",
    "    for t in range(mapping.time_size):\n",
    "         #t=1\n",
    "        jefimenko.plot_EM_grid('H', mapping, time=t)\n",
    "\n",
    "    for T in range(10):\n",
    "        print(T)\n",
    "        field = jefimenko.print_location(mapping.grid['H'][T], [1], mapping)\n",
    "        print(field)"
   ]
  },
  {
   "cell_type": "code",
   "execution_count": null,
   "metadata": {},
   "outputs": [],
   "source": [
    "example_currents_1()"
   ]
  },
  {
   "cell_type": "code",
   "execution_count": null,
   "metadata": {},
   "outputs": [],
   "source": [
    "def example_currents_2():\n",
    "    mapping = jefimenko.Grid(2,   # creat a 2D grid\n",
    "                delta=[1, 1],  # this is the size of a step in x, y and z\n",
    "                size=[10, 10],  # this is the size of the grid in meters\n",
    "                time=14 * 3.36 * 10**-9,  # this is the length of a simulation in secounds\n",
    "                delta_t=3.36 * 10**-9  # this is the size of a full time step\n",
    "        )\n",
    "    mapping.Add_Current([5, 5],\n",
    "                    direction=[0, 0, 1],\n",
    "                    Amps=1)\n",
    "\n",
    "    jefimenko.plot_grid(mapping)\n",
    "\n",
    "    for i in range(len(mapping.currents[0])):\n",
    "        print('amps = ' + str(mapping.currents[0][i].amps))\n",
    "        print('direction = ' + str(mapping.currents[0][i].direction))\n",
    "        print('location = '+ str(mapping.currents[0][i].location))\n",
    "        print('')\n",
    "    jefimenko.simulate(mapping)\n",
    "    for t in range(mapping.time_size):\n",
    "         #t=1\n",
    "        jefimenko.plot_EM_grid('H', mapping, time=t)\n",
    "\n",
    "    for T in range(10):\n",
    "        print(T)\n",
    "        field = jefimenko.print_location(mapping.grid['H'][T], [1, 0], mapping)\n",
    "        print(field)"
   ]
  },
  {
   "cell_type": "code",
   "execution_count": null,
   "metadata": {},
   "outputs": [],
   "source": [
    "example_currents_2()"
   ]
  },
  {
   "cell_type": "code",
   "execution_count": null,
   "metadata": {},
   "outputs": [],
   "source": [
    "def example_currents_3():\n",
    "    mapping = jefimenko.Grid(3,   # creat a 3D grid\n",
    "                delta=[1, 1, 1],  # this is the size of a step in x, y and z\n",
    "                size=[10, 10, 3],  # this is the size of the grid in meters\n",
    "                time=14 * 3.36 * 10**-9,  # this is the length of a simulation in secounds\n",
    "                delta_t=3.36 * 10**-9  # this is the size of a full time step\n",
    "        )\n",
    "    for i in range(3):\n",
    "        mapping.Add_Current([5, 5, i],\n",
    "                            direction=[0, 0, 1],\n",
    "                            Amps=1)\n",
    "\n",
    "    jefimenko.plot_grid(mapping)\n",
    "\n",
    "    for i in range(len(mapping.currents[0])):\n",
    "        print('amps = ' + str(mapping.currents[0][i].amps))\n",
    "        print('direction = ' + str(mapping.currents[0][i].direction))\n",
    "        print('location = '+ str(mapping.currents[0][i].location))\n",
    "        print('')\n",
    "    jefimenko.simulate(mapping)\n",
    "    for t in range(mapping.time_size):\n",
    "        jefimenko.plot_EM_grid('H', mapping, time=t)\n",
    "\n",
    "    for T in range(10):\n",
    "        print(T)\n",
    "        field = jefimenko.print_location(mapping.grid['H'][T], [1, 0, 0], mapping)\n",
    "        print(field)"
   ]
  },
  {
   "cell_type": "code",
   "execution_count": null,
   "metadata": {},
   "outputs": [],
   "source": [
    "example_currents_3()"
   ]
  },
  {
   "cell_type": "code",
   "execution_count": null,
   "metadata": {},
   "outputs": [],
   "source": []
  }
 ],
 "metadata": {
  "kernelspec": {
   "display_name": "Python [conda env:jefimenko]",
   "language": "python",
   "name": "conda-env-jefimenko-py"
  },
  "language_info": {
   "codemirror_mode": {
    "name": "ipython",
    "version": 3
   },
   "file_extension": ".py",
   "mimetype": "text/x-python",
   "name": "python",
   "nbconvert_exporter": "python",
   "pygments_lexer": "ipython3",
   "version": "3.7.0"
  }
 },
 "nbformat": 4,
 "nbformat_minor": 2
}
