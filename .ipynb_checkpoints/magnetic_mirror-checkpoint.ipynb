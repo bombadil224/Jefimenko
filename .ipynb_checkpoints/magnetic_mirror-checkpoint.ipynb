{
 "cells": [
  {
   "cell_type": "code",
   "execution_count": 1,
   "metadata": {},
   "outputs": [],
   "source": [
    "%load_ext line_profiler\n",
    "import mpld3\n",
    "mpld3.enable_notebook()"
   ]
  },
  {
   "cell_type": "code",
   "execution_count": 2,
   "metadata": {},
   "outputs": [
    {
     "name": "stdout",
     "output_type": "stream",
     "text": [
      "Jefimenko version 0.0.5\n"
     ]
    }
   ],
   "source": [
    "%matplotlib nbagg\n",
    "\n",
    "import jefimenko\n",
    "import pdb\n",
    "import numpy as np"
   ]
  },
  {
   "cell_type": "code",
   "execution_count": 3,
   "metadata": {},
   "outputs": [],
   "source": [
    "def plasma_mirror(print_all=False):\n",
    "\n",
    "    print('seting up simulaiton')\n",
    "    B_0 = 10**8\n",
    "    a_0 = .3\n",
    "    H_field = lambda location, time: [0, 0, B_0 * (1 + (location[2] / a_0))]\n",
    "\n",
    "    time_L = 1\n",
    "    delta_t = .001\n",
    "\n",
    "#    mapping = jefimenko.Grid(delta=[1,1,1],  # this is the size of a step in x, y and z\n",
    "#                size=[10,10,10],  # this is the size of the grid in meters\n",
    "#                time=time_L,  # this is the length of a simulation in secounds\n",
    "#                delta_t=delta_t,  # this is the size of a full time step\n",
    "#                constant_E=[0,0,0],\n",
    "#                constant_H=H_field\n",
    "#        )\n",
    "    \n",
    "    charge = -1.60217662 * 10**(-19) # colembs\n",
    "    mass = 9.10938356 * 10**(-31)  # kilograms\n",
    "\n",
    "    velocity_parpendicular = .000001\n",
    "    W_perp = 1/2 * mass * velocity_parpendicular ** 2 \n",
    "    M = W_perp / B_0     # this is a constant\n",
    "    z_m = 3    # location of reflection\n",
    "    velocity = [velocity_parpendicular , 0, (2 * M * B_0 / mass)**.5 * ( z_m / a_0 )**2 ]\n",
    "    \n",
    "    print(velocity)\n",
    "    \n",
    "    #np.array([1,0,0])\n",
    "\n",
    "\n",
    "    acc = np.array([0, 0, 0])\n",
    "\n",
    "    mapping = jefimenko.Grid(delta=[1,1,1],  # this is the size of a step in x, y and z\n",
    "                size=[10,10,10],  # this is the size of the grid in meters\n",
    "                time=time_L,  # this is the length of a simulation in secounds\n",
    "                delta_t=delta_t,  # this is the size of a full time step\n",
    "                constant_E=[0,0,0],\n",
    "                constant_H=H_field\n",
    "        )\n",
    "\n",
    "    mapping.Add_Charge([5, 5, 0], Q = charge, velocity=velocity, acceleration=acc, mass=mass)\n",
    "    \n",
    "    # mapping.Add_Charge([5, 4, 0], Q = charge, velocity=velocity, acceleration=acc, mass=mass)\n",
    "    \n",
    "    H_field = np.array(H_field)\n",
    "    \n",
    "    print(\"starting simulation\")\n",
    "\n",
    "    jefimenko.plasma_simulation(mapping)\n",
    "    \n",
    "    for t in range(int(time_L / delta_t)):\n",
    "        if print_all is True:\n",
    "            print(t)\n",
    "            print(\"velocity\")\n",
    "            print(mapping.charges[t][0].velocity)\n",
    "            print(\"location\")\n",
    "            print(mapping.charges[t][0].location)\n",
    "            # print(np.linalg.norm(mapping.charges[t][0].velocity) / np.linalg.norm(test_valu))\n",
    "            print()\n",
    "            #jefimenko.plot_grid(mapping, t)\n"
   ]
  },
  {
   "cell_type": "code",
   "execution_count": 4,
   "metadata": {
    "scrolled": false
   },
   "outputs": [
    {
     "name": "stdout",
     "output_type": "stream",
     "text": [
      "seting up simulaiton\n",
      "[1e-06, 0, 9.999999999999999e-05]\n",
      "the simulaiton is free space True\n",
      "grid delta array is [1, 1, 1]\n",
      "the simulaiton will sumulate 1 seconds\n",
      "each time step will be 0.001\n",
      "the simulation will be composed of 1000 time steps\n",
      "starting simulation\n",
      "percent compleat = 0.1001001001001001 estemated time remaining 1.008157730102539\r"
     ]
    },
    {
     "ename": "TypeError",
     "evalue": "zip argument #2 must support iteration",
     "output_type": "error",
     "traceback": [
      "\u001b[0;31m---------------------------------------------------------------------------\u001b[0m",
      "\u001b[0;31mTypeError\u001b[0m                                 Traceback (most recent call last)",
      "\u001b[0;32m<ipython-input-4-a5453985634a>\u001b[0m in \u001b[0;36m<module>\u001b[0;34m\u001b[0m\n\u001b[0;32m----> 1\u001b[0;31m \u001b[0mplasma_mirror\u001b[0m\u001b[0;34m(\u001b[0m\u001b[0mprint_all\u001b[0m\u001b[0;34m=\u001b[0m\u001b[0;32mTrue\u001b[0m\u001b[0;34m)\u001b[0m\u001b[0;34m\u001b[0m\u001b[0;34m\u001b[0m\u001b[0m\n\u001b[0m",
      "\u001b[0;32m<ipython-input-3-8780bb000ffb>\u001b[0m in \u001b[0;36mplasma_mirror\u001b[0;34m(print_all)\u001b[0m\n\u001b[1;32m     49\u001b[0m     \u001b[0mprint\u001b[0m\u001b[0;34m(\u001b[0m\u001b[0;34m\"starting simulation\"\u001b[0m\u001b[0;34m)\u001b[0m\u001b[0;34m\u001b[0m\u001b[0;34m\u001b[0m\u001b[0m\n\u001b[1;32m     50\u001b[0m \u001b[0;34m\u001b[0m\u001b[0m\n\u001b[0;32m---> 51\u001b[0;31m     \u001b[0mjefimenko\u001b[0m\u001b[0;34m.\u001b[0m\u001b[0mplasma_simulation\u001b[0m\u001b[0;34m(\u001b[0m\u001b[0mmapping\u001b[0m\u001b[0;34m)\u001b[0m\u001b[0;34m\u001b[0m\u001b[0;34m\u001b[0m\u001b[0m\n\u001b[0m\u001b[1;32m     52\u001b[0m \u001b[0;34m\u001b[0m\u001b[0m\n\u001b[1;32m     53\u001b[0m     \u001b[0;32mfor\u001b[0m \u001b[0mt\u001b[0m \u001b[0;32min\u001b[0m \u001b[0mrange\u001b[0m\u001b[0;34m(\u001b[0m\u001b[0mint\u001b[0m\u001b[0;34m(\u001b[0m\u001b[0mtime_L\u001b[0m \u001b[0;34m/\u001b[0m \u001b[0mdelta_t\u001b[0m\u001b[0;34m)\u001b[0m\u001b[0;34m)\u001b[0m\u001b[0;34m:\u001b[0m\u001b[0;34m\u001b[0m\u001b[0;34m\u001b[0m\u001b[0m\n",
      "\u001b[0;32m/home/storage/nehemiah/Nehemiah/linux/programing/jefimenko/git/RreBbuild_no_np/Jefimenko/jefimenko/plasma.py\u001b[0m in \u001b[0;36mplasma_simulation\u001b[0;34m(grid, test)\u001b[0m\n\u001b[1;32m     75\u001b[0m         E_field, H_field, B_field = simulate_location_list(location_list,\n\u001b[1;32m     76\u001b[0m                                                            \u001b[0mtime\u001b[0m\u001b[0;34m,\u001b[0m\u001b[0;34m\u001b[0m\u001b[0;34m\u001b[0m\u001b[0m\n\u001b[0;32m---> 77\u001b[0;31m                                                            grid)\n\u001b[0m\u001b[1;32m     78\u001b[0m \u001b[0;34m\u001b[0m\u001b[0m\n\u001b[1;32m     79\u001b[0m         \u001b[0;31m# calculate the velocity and location of charges at time + dt\u001b[0m\u001b[0;34m\u001b[0m\u001b[0;34m\u001b[0m\u001b[0;34m\u001b[0m\u001b[0m\n",
      "\u001b[0;32m/home/storage/nehemiah/Nehemiah/linux/programing/jefimenko/git/RreBbuild_no_np/Jefimenko/jefimenko/simulation.py\u001b[0m in \u001b[0;36msimulate_location_list\u001b[0;34m(location_list, time, grid)\u001b[0m\n\u001b[1;32m    127\u001b[0m         \u001b[0;32mfor\u001b[0m \u001b[0mt\u001b[0m \u001b[0;32min\u001b[0m \u001b[0mrange\u001b[0m\u001b[0;34m(\u001b[0m\u001b[0mlen\u001b[0m\u001b[0;34m(\u001b[0m\u001b[0mE\u001b[0m\u001b[0;34m)\u001b[0m\u001b[0;34m)\u001b[0m\u001b[0;34m:\u001b[0m\u001b[0;34m\u001b[0m\u001b[0;34m\u001b[0m\u001b[0m\n\u001b[1;32m    128\u001b[0m             \u001b[0mE\u001b[0m\u001b[0;34m[\u001b[0m\u001b[0mt\u001b[0m\u001b[0;34m]\u001b[0m \u001b[0;34m=\u001b[0m \u001b[0;34m[\u001b[0m\u001b[0mV\u001b[0m \u001b[0;34m+\u001b[0m \u001b[0mC\u001b[0m \u001b[0;32mfor\u001b[0m \u001b[0;34m(\u001b[0m\u001b[0mV\u001b[0m\u001b[0;34m,\u001b[0m \u001b[0mC\u001b[0m\u001b[0;34m)\u001b[0m \u001b[0;32min\u001b[0m \u001b[0mzip\u001b[0m\u001b[0;34m(\u001b[0m\u001b[0mE\u001b[0m\u001b[0;34m[\u001b[0m\u001b[0mt\u001b[0m\u001b[0;34m]\u001b[0m\u001b[0;34m,\u001b[0m \u001b[0mgrid\u001b[0m\u001b[0;34m.\u001b[0m\u001b[0mconstant_E\u001b[0m\u001b[0;34m)\u001b[0m\u001b[0;34m]\u001b[0m\u001b[0;34m\u001b[0m\u001b[0;34m\u001b[0m\u001b[0m\n\u001b[0;32m--> 129\u001b[0;31m             \u001b[0mH\u001b[0m\u001b[0;34m[\u001b[0m\u001b[0mt\u001b[0m\u001b[0;34m]\u001b[0m \u001b[0;34m=\u001b[0m \u001b[0;34m[\u001b[0m\u001b[0mV\u001b[0m \u001b[0;34m+\u001b[0m \u001b[0mC\u001b[0m \u001b[0;32mfor\u001b[0m \u001b[0;34m(\u001b[0m\u001b[0mV\u001b[0m\u001b[0;34m,\u001b[0m \u001b[0mC\u001b[0m\u001b[0;34m)\u001b[0m \u001b[0;32min\u001b[0m \u001b[0mzip\u001b[0m\u001b[0;34m(\u001b[0m\u001b[0mH\u001b[0m\u001b[0;34m[\u001b[0m\u001b[0mt\u001b[0m\u001b[0;34m]\u001b[0m\u001b[0;34m,\u001b[0m \u001b[0mgrid\u001b[0m\u001b[0;34m.\u001b[0m\u001b[0mconstant_H\u001b[0m\u001b[0;34m)\u001b[0m\u001b[0;34m]\u001b[0m\u001b[0;34m\u001b[0m\u001b[0;34m\u001b[0m\u001b[0m\n\u001b[0m\u001b[1;32m    130\u001b[0m             \u001b[0mB\u001b[0m\u001b[0;34m[\u001b[0m\u001b[0mt\u001b[0m\u001b[0;34m]\u001b[0m \u001b[0;34m=\u001b[0m \u001b[0;34m[\u001b[0m\u001b[0mV\u001b[0m \u001b[0;34m+\u001b[0m \u001b[0mC\u001b[0m \u001b[0;32mfor\u001b[0m \u001b[0;34m(\u001b[0m\u001b[0mV\u001b[0m\u001b[0;34m,\u001b[0m \u001b[0mC\u001b[0m\u001b[0;34m)\u001b[0m \u001b[0;32min\u001b[0m \u001b[0mzip\u001b[0m\u001b[0;34m(\u001b[0m\u001b[0mB\u001b[0m\u001b[0;34m[\u001b[0m\u001b[0mt\u001b[0m\u001b[0;34m]\u001b[0m\u001b[0;34m,\u001b[0m \u001b[0mgrid\u001b[0m\u001b[0;34m.\u001b[0m\u001b[0mconstant_H\u001b[0m\u001b[0;34m)\u001b[0m\u001b[0;34m]\u001b[0m\u001b[0;34m\u001b[0m\u001b[0;34m\u001b[0m\u001b[0m\n\u001b[1;32m    131\u001b[0m \u001b[0;34m\u001b[0m\u001b[0m\n",
      "\u001b[0;31mTypeError\u001b[0m: zip argument #2 must support iteration"
     ]
    }
   ],
   "source": [
    "plasma_mirror(print_all=True)"
   ]
  },
  {
   "cell_type": "code",
   "execution_count": null,
   "metadata": {},
   "outputs": [],
   "source": [
    "# pdb.pm()"
   ]
  },
  {
   "cell_type": "code",
   "execution_count": null,
   "metadata": {},
   "outputs": [],
   "source": [
    "def H_function(print_all=False):\n",
    "    \n",
    "    B_0 = 1\n",
    "    a_0 = .3\n",
    "\n",
    "    H_field = lambda location, time: [0, 0, B_0 * (1 + (location[2] / a_0))]\n",
    "    # H_field = lambda location, time: [0, 0, 1]\n",
    "    time_L = 40\n",
    "    # delta_t = .005\n",
    "    delta_t = .05\n",
    "    # H_field = [0, 0, 1]\n",
    "    B_z = 1\n",
    "    mapping = jefimenko.Grid(delta=[1,1,1],  # this is the size of a step in x, y and z\n",
    "                size=[10,10,10],  # this is the size of the grid in meters\n",
    "                time=time_L,  # this is the length of a simulation in secounds\n",
    "                delta_t=delta_t,  # this is the size of a full time step\n",
    "                constant_E=[0,0,0],\n",
    "                constant_H=H_field,\n",
    "                plasma_simulaiton=True\n",
    "        )\n",
    "    pass_count = 0\n",
    "    fail_count = 0\n",
    "    \n",
    "    charge = 3.14159 / time_L\n",
    "    velocity = np.array([1, -.00392699, 0])\n",
    "    acc = np.array([0, 0, 0])\n",
    "    mass = 1\n",
    "    mapping.Add_Charge([0, 0, 0], Q = charge, velocity=velocity, acceleration=acc, mass=mass)\n",
    "    H_field = np.array(H_field)\n",
    "    jefimenko.plasma_simulation(mapping)\n",
    "\n",
    "\n",
    "    for t in range(int(time_L / delta_t)):\n",
    "        w_c = charge * B_z / mass\n",
    "        test_valu_1 = np.cos(w_c * t * delta_t)\n",
    "        test_valu_2 = -np.sin(w_c * t * delta_t)\n",
    "        test_valu = np.array([test_valu_1, test_valu_2, 0])\n",
    "\n",
    "\n",
    "        if print_all is True:\n",
    "            print(t)\n",
    "\n",
    "            print(\"velocity\")\n",
    "            print(mapping.charges[t][0].velocity)\n",
    "            print('norm of velocity')\n",
    "            print(np.linalg.norm(mapping.charges[t][0].velocity))\n",
    "            print()"
   ]
  },
  {
   "cell_type": "code",
   "execution_count": null,
   "metadata": {},
   "outputs": [],
   "source": [
    "H_function(print_all = True)"
   ]
  },
  {
   "cell_type": "code",
   "execution_count": null,
   "metadata": {},
   "outputs": [],
   "source": [
    "pdb.pm()"
   ]
  },
  {
   "cell_type": "code",
   "execution_count": null,
   "metadata": {},
   "outputs": [],
   "source": []
  }
 ],
 "metadata": {
  "kernelspec": {
   "display_name": "jefimenko",
   "language": "python",
   "name": "jefimenko"
  },
  "language_info": {
   "codemirror_mode": {
    "name": "ipython",
    "version": 3
   },
   "file_extension": ".py",
   "mimetype": "text/x-python",
   "name": "python",
   "nbconvert_exporter": "python",
   "pygments_lexer": "ipython3",
   "version": "3.7.3"
  }
 },
 "nbformat": 4,
 "nbformat_minor": 2
}
