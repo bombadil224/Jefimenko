{
 "cells": [
  {
   "cell_type": "code",
   "execution_count": 1,
   "metadata": {},
   "outputs": [],
   "source": [
    "%load_ext line_profiler\n",
    "import mpld3\n",
    "mpld3.enable_notebook()"
   ]
  },
  {
   "cell_type": "code",
   "execution_count": 2,
   "metadata": {},
   "outputs": [
    {
     "name": "stdout",
     "output_type": "stream",
     "text": [
      "Jefimenko version 0.0.5\n"
     ]
    }
   ],
   "source": [
    "%matplotlib nbagg\n",
    "\n",
    "import jefimenko\n",
    "import pdb\n",
    "import numpy as np"
   ]
  },
  {
   "cell_type": "code",
   "execution_count": 7,
   "metadata": {},
   "outputs": [],
   "source": [
    "def plasma_mirror(print_all=False):\n",
    "\n",
    "    print('seting up simulaiton')\n",
    "    B_0 = 10**8\n",
    "    a_0 = .3\n",
    "    H_field = lambda location, time: [0, 0, B_0 * (1 + (location[2] / a_0))]\n",
    "\n",
    "    time_L = 1\n",
    "    time_L = 10000\n",
    "    delta_t = .1\n",
    "\n",
    "#    mapping = jefimenko.Grid(delta=[1,1,1],  # this is the size of a step in x, y and z\n",
    "#                size=[10,10,10],  # this is the size of the grid in meters\n",
    "#                time=time_L,  # this is the length of a simulation in secounds\n",
    "#                delta_t=delta_t,  # this is the size of a full time step\n",
    "#                constant_E=[0,0,0],\n",
    "#                constant_H=H_field\n",
    "#        )\n",
    "    \n",
    "    charge = -1.60217662 * 10**(-19) # colembs\n",
    "    mass = 9.10938356 * 10**(-31)  # kilograms\n",
    "\n",
    "    velocity_parpendicular = .000001\n",
    "    W_perp = 1/2 * mass * velocity_parpendicular ** 2 \n",
    "    M = W_perp / B_0     # this is a constant\n",
    "    z_m = 3    # location of reflection\n",
    "    velocity = [velocity_parpendicular , 0, (2 * M * B_0 / mass)**.5 * ( z_m / a_0 )**2 ]\n",
    "    \n",
    "    print(velocity)\n",
    "    \n",
    "    #np.array([1,0,0])\n",
    "\n",
    "\n",
    "    acc = np.array([0, 0, 0])\n",
    "\n",
    "    mapping = jefimenko.Grid(delta=[1,1,1],  # this is the size of a step in x, y and z\n",
    "                size=[10,10,10],  # this is the size of the grid in meters\n",
    "                time=time_L,  # this is the length of a simulation in secounds\n",
    "                delta_t=delta_t,  # this is the size of a full time step\n",
    "                constant_E=[0,0,0],\n",
    "                constant_H=H_field\n",
    "        )\n",
    "\n",
    "    mapping.Add_Charge([5, 5, 0], Q = charge, velocity=velocity, acceleration=acc, mass=mass)\n",
    "    \n",
    "    # mapping.Add_Charge([5, 4, 0], Q = charge, velocity=velocity, acceleration=acc, mass=mass)\n",
    "    \n",
    "    H_field = np.array(H_field)\n",
    "    \n",
    "    print(\"starting simulation\")\n",
    "\n",
    "    jefimenko.plasma_simulation(mapping)\n",
    "    \n",
    "    for t in range(int(time_L / delta_t)):\n",
    "        if print_all is True:\n",
    "            print(t)\n",
    "            print(\"velocity\")\n",
    "            print(mapping.charges[t][0].velocity)\n",
    "            print(\"location\")\n",
    "            print(mapping.charges[t][0].location)\n",
    "            # print(np.linalg.norm(mapping.charges[t][0].velocity) / np.linalg.norm(test_valu))\n",
    "            print()\n",
    "            #jefimenko.plot_grid(mapping, t)\n"
   ]
  },
  {
   "cell_type": "code",
   "execution_count": null,
   "metadata": {
    "scrolled": true
   },
   "outputs": [
    {
     "name": "stdout",
     "output_type": "stream",
     "text": [
      "seting up simulaiton\n",
      "[1e-06, 0, 9.999999999999999e-05]\n",
      "the simulaiton is free space True\n",
      "grid delta array is [1, 1, 1]\n",
      "the simulaiton will sumulate 10000 seconds\n",
      "each time step will be 0.1\n",
      "the simulation will be composed of 100000 time steps\n",
      "starting simulation\n",
      "percent compleat = 9 estemated time remaining 641 seconds              \r"
     ]
    }
   ],
   "source": [
    "plasma_mirror(print_all=True)"
   ]
  },
  {
   "cell_type": "code",
   "execution_count": null,
   "metadata": {},
   "outputs": [],
   "source": [
    "# pdb.pm()"
   ]
  },
  {
   "cell_type": "code",
   "execution_count": null,
   "metadata": {},
   "outputs": [],
   "source": [
    "def H_function(print_all=False):\n",
    "    \n",
    "    B_0 = 1\n",
    "    a_0 = .3\n",
    "\n",
    "    H_field = lambda location, time: [0, 0, B_0 * (1 + (location[2] / a_0))]\n",
    "    # H_field = lambda location, time: [0, 0, 1]\n",
    "    time_L = 200\n",
    "    # delta_t = .005\n",
    "    delta_t = .05\n",
    "    # H_field = [0, 0, 1]\n",
    "    B_z = 1\n",
    "    mapping = jefimenko.Grid(delta=[1,1,1],  # this is the size of a step in x, y and z\n",
    "                size=[10,10,10],  # this is the size of the grid in meters\n",
    "                time=time_L,  # this is the length of a simulation in secounds\n",
    "                delta_t=delta_t,  # this is the size of a full time step\n",
    "                constant_E=[0,0,0],\n",
    "                constant_H=H_field,\n",
    "                plasma_simulaiton=True\n",
    "        )\n",
    "    pass_count = 0\n",
    "    fail_count = 0\n",
    "    \n",
    "    charge = 3.14159 / time_L\n",
    "    velocity = np.array([1, -.00392699, 0])\n",
    "    acc = np.array([0, 0, 0])\n",
    "    mass = 1\n",
    "    mapping.Add_Charge([0, 0, 0], Q = charge, velocity=velocity, acceleration=acc, mass=mass)\n",
    "    H_field = np.array(H_field)\n",
    "    jefimenko.plasma_simulation(mapping)\n",
    "\n",
    "\n",
    "    for t in range(int(time_L / delta_t)):\n",
    "        w_c = charge * B_z / mass\n",
    "        test_valu_1 = np.cos(w_c * t * delta_t)\n",
    "        test_valu_2 = -np.sin(w_c * t * delta_t)\n",
    "        test_valu = np.array([test_valu_1, test_valu_2, 0])\n",
    "\n",
    "\n",
    "        if print_all is True:\n",
    "           # print(t)\n",
    "\n",
    "            #print(\"velocity\")\n",
    "            #print(mapping.charges[t][0].velocity)\n",
    "            #print('norm of velocity')\n",
    "            #print(np.linalg.norm(mapping.charges[t][0].velocity))\n",
    "            #print(\"location\")\n",
    "            print(mapping.charges[t][0].location)\n",
    "            #print()"
   ]
  },
  {
   "cell_type": "code",
   "execution_count": null,
   "metadata": {
    "scrolled": false
   },
   "outputs": [],
   "source": [
    "H_function(print_all = True)"
   ]
  },
  {
   "cell_type": "code",
   "execution_count": null,
   "metadata": {},
   "outputs": [],
   "source": []
  },
  {
   "cell_type": "code",
   "execution_count": null,
   "metadata": {},
   "outputs": [],
   "source": []
  }
 ],
 "metadata": {
  "kernelspec": {
   "display_name": "jefimenko",
   "language": "python",
   "name": "jefimenko"
  },
  "language_info": {
   "codemirror_mode": {
    "name": "ipython",
    "version": 3
   },
   "file_extension": ".py",
   "mimetype": "text/x-python",
   "name": "python",
   "nbconvert_exporter": "python",
   "pygments_lexer": "ipython3",
   "version": "3.7.3"
  }
 },
 "nbformat": 4,
 "nbformat_minor": 2
}
