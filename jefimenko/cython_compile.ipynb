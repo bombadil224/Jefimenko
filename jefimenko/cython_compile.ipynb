{
 "cells": [
  {
   "cell_type": "code",
   "execution_count": 1,
   "metadata": {},
   "outputs": [
    {
     "name": "stdout",
     "output_type": "stream",
     "text": [
      "charge_current_integrals.c     constants.py          __init__.py  \u001b[0m\u001b[01;34m__pycache__\u001b[0m\n",
      "charge_current_integrals.html  cython_compile.ipynb  latest       simulation.py\n",
      "charge_current_integrals.pyx   derivative.py         linalg.py\n",
      "\u001b[01;32mcharge_current_integrals.so\u001b[0m    extras.py             makefile\n",
      "classes.py                     graphing.py           plasma.py\n"
     ]
    }
   ],
   "source": [
    "ls"
   ]
  },
  {
   "cell_type": "code",
   "execution_count": 2,
   "metadata": {},
   "outputs": [
    {
     "name": "stdout",
     "output_type": "stream",
     "text": [
      "cython3 charge_current_integrals.pyx -a\n",
      "/usr/lib/python3.8/site-packages/Cython/Compiler/Main.py:369: FutureWarning: Cython directive 'language_level' not set, using 2 for now (Py2). This will change in a later release! File: /home/storage/nehemiah/Nehemiah/linux/programing/jefimenko/git/RreBbuild_no_np/Jefimenko/jefimenko/charge_current_integrals.pyx\n",
      "  tree = Parsing.p_module(s, pxd, full_module_name)\n",
      "cc `pkg-config --libs --cflags python3` -c charge_current_integrals.c -o charge_current_integrals.o -fPIC\n",
      "gcc -shared -o charge_current_integrals.so charge_current_integrals.o `python-config --libs`\n",
      "touch -am latest\n"
     ]
    }
   ],
   "source": [
    "make"
   ]
  },
  {
   "cell_type": "code",
   "execution_count": 3,
   "metadata": {},
   "outputs": [
    {
     "name": "stdout",
     "output_type": "stream",
     "text": [
      "rm charge_current_integrals.c\n",
      "rm charge_current_integrals.o\n"
     ]
    }
   ],
   "source": [
    "make clean"
   ]
  },
  {
   "cell_type": "code",
   "execution_count": 4,
   "metadata": {},
   "outputs": [
    {
     "name": "stdout",
     "output_type": "stream",
     "text": [
      "/usr/lib/python3.8/site-packages/Cython/Compiler/Main.py:369: FutureWarning: Cython directive 'language_level' not set, using 2 for now (Py2). This will change in a later release! File: /home/storage/nehemiah/Nehemiah/linux/programing/jefimenko/git/RreBbuild_no_np/Jefimenko/jefimenko/charge_current_integrals.pyx\n",
      "  tree = Parsing.p_module(s, pxd, full_module_name)\n",
      "/home/storage/nehemiah/Nehemiah/linux/programing/jefimenko/git/RreBbuild_no_np/Jefimenko/jefimenko/constants.pyx\n"
     ]
    },
    {
     "ename": "",
     "evalue": "1",
     "output_type": "error",
     "traceback": []
    }
   ],
   "source": [
    "cython3 charge_current_integrals.pyx -a\n",
    "cython3 constants.pyx -a"
   ]
  },
  {
   "cell_type": "code",
   "execution_count": null,
   "metadata": {},
   "outputs": [],
   "source": []
  },
  {
   "cell_type": "code",
   "execution_count": null,
   "metadata": {},
   "outputs": [],
   "source": [
    "ls"
   ]
  },
  {
   "cell_type": "code",
   "execution_count": null,
   "metadata": {},
   "outputs": [],
   "source": []
  },
  {
   "cell_type": "code",
   "execution_count": null,
   "metadata": {},
   "outputs": [],
   "source": []
  }
 ],
 "metadata": {
  "kernelspec": {
   "display_name": "Bash",
   "language": "bash",
   "name": "bash"
  },
  "language_info": {
   "codemirror_mode": "shell",
   "file_extension": ".sh",
   "mimetype": "text/x-sh",
   "name": "bash"
  }
 },
 "nbformat": 4,
 "nbformat_minor": 2
}
