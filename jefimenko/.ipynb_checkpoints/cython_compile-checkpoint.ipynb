{
 "cells": [
  {
   "cell_type": "code",
   "execution_count": 1,
   "metadata": {},
   "outputs": [
    {
     "name": "stdout",
     "output_type": "stream",
     "text": [
      "charge_current_integrals.py   classes.py            extras.py    linalg.py\n",
      "charge_current_integrals.pyx  constants.py          graphing.py  makefile\n",
      "classes_old.py                cython_compile.ipynb  __init__.py  \u001b[0m\u001b[01;34m__pycache__\u001b[0m\n"
     ]
    }
   ],
   "source": [
    "ls"
   ]
  },
  {
   "cell_type": "code",
   "execution_count": 2,
   "metadata": {},
   "outputs": [
    {
     "name": "stdout",
     "output_type": "stream",
     "text": [
      "cython3 charge_current_integrals.pyx -a\n",
      "/usr/lib/python3.7/site-packages/Cython/Compiler/Main.py:369: FutureWarning: Cython directive 'language_level' not set, using 2 for now (Py2). This will change in a later release! File: /home/storage/nehemiah/Nehemiah/linux/programing/jefimenko/git/RreBbuild_no_np/Jefimenko/jefimenko/charge_current_integrals.pyx\n",
      "  tree = Parsing.p_module(s, pxd, full_module_name)\n",
      "cc `pkg-config --libs --cflags python3` -c charge_current_integrals.c -o charge_current_integrals.o -fPIC\n",
      "gcc -shared -o charge_current_integrals.so charge_current_integrals.o `python-config --libs`\n",
      "touch -am latest\n"
     ]
    }
   ],
   "source": [
    "make"
   ]
  },
  {
   "cell_type": "code",
   "execution_count": 3,
   "metadata": {},
   "outputs": [
    {
     "name": "stdout",
     "output_type": "stream",
     "text": [
      "rm charge_current_integrals.c\n",
      "rm charge_current_integrals.o\n"
     ]
    }
   ],
   "source": [
    "make clean"
   ]
  },
  {
   "cell_type": "code",
   "execution_count": 4,
   "metadata": {},
   "outputs": [
    {
     "name": "stdout",
     "output_type": "stream",
     "text": [
      "/usr/lib/python3.7/site-packages/Cython/Compiler/Main.py:369: FutureWarning: Cython directive 'language_level' not set, using 2 for now (Py2). This will change in a later release! File: /home/storage/nehemiah/Nehemiah/linux/programing/jefimenko/git/RreBbuild_no_np/Jefimenko/jefimenko/charge_current_integrals.pyx\n",
      "  tree = Parsing.p_module(s, pxd, full_module_name)\n",
      "/home/storage/nehemiah/Nehemiah/linux/programing/jefimenko/git/RreBbuild_no_np/Jefimenko/jefimenko/constants.pyx\n"
     ]
    },
    {
     "ename": "",
     "evalue": "1",
     "output_type": "error",
     "traceback": []
    }
   ],
   "source": [
    "cython3 charge_current_integrals.pyx -a\n",
    "cython3 constants.pyx -a"
   ]
  },
  {
   "cell_type": "code",
   "execution_count": null,
   "metadata": {},
   "outputs": [],
   "source": []
  },
  {
   "cell_type": "code",
   "execution_count": 5,
   "metadata": {},
   "outputs": [
    {
     "name": "stdout",
     "output_type": "stream",
     "text": [
      "charge_current_integrals.c     classes.py            latest\n",
      "charge_current_integrals.html  constants.py          linalg.py\n",
      "charge_current_integrals.py    cython_compile.ipynb  makefile\n",
      "charge_current_integrals.pyx   extras.py             \u001b[0m\u001b[01;34m__pycache__\u001b[0m\n",
      "\u001b[01;32mcharge_current_integrals.so\u001b[0m    graphing.py\n",
      "classes_old.py                 __init__.py\n"
     ]
    }
   ],
   "source": [
    "ls"
   ]
  },
  {
   "cell_type": "code",
   "execution_count": null,
   "metadata": {},
   "outputs": [],
   "source": []
  },
  {
   "cell_type": "code",
   "execution_count": null,
   "metadata": {},
   "outputs": [],
   "source": []
  }
 ],
 "metadata": {
  "kernelspec": {
   "display_name": "Bash",
   "language": "bash",
   "name": "bash"
  },
  "language_info": {
   "codemirror_mode": "shell",
   "file_extension": ".sh",
   "mimetype": "text/x-sh",
   "name": "bash"
  }
 },
 "nbformat": 4,
 "nbformat_minor": 2
}
